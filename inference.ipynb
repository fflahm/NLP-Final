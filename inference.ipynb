{
 "cells": [
  {
   "cell_type": "code",
   "execution_count": 1,
   "metadata": {},
   "outputs": [],
   "source": [
    "from transformers import pipeline"
   ]
  },
  {
   "cell_type": "code",
   "execution_count": null,
   "metadata": {},
   "outputs": [
    {
     "name": "stderr",
     "output_type": "stream",
     "text": [
      "d:\\Anaconda\\envs\\t800\\lib\\site-packages\\transformers\\models\\marian\\tokenization_marian.py:175: UserWarning: Recommended: pip install sacremoses.\n",
      "  warnings.warn(\"Recommended: pip install sacremoses.\")\n",
      "Hardware accelerator e.g. GPU is available in the environment, but no `device` argument is passed to the `Pipeline` object. Model will be on CPU.\n"
     ]
    },
    {
     "data": {
      "text/plain": [
       "GenerationConfig {\n",
       "  \"bad_words_ids\": [\n",
       "    [\n",
       "      60715\n",
       "    ]\n",
       "  ],\n",
       "  \"bos_token_id\": 0,\n",
       "  \"decoder_start_token_id\": 60715,\n",
       "  \"eos_token_id\": 0,\n",
       "  \"forced_eos_token_id\": 0,\n",
       "  \"max_length\": 512,\n",
       "  \"num_beams\": 10,\n",
       "  \"pad_token_id\": 60715\n",
       "}"
      ]
     },
     "execution_count": 2,
     "metadata": {},
     "output_type": "execute_result"
    }
   ],
   "source": [
    "checkpoint = \"raw_opus_merge/checkpoint-540000\" # Change it to the actual path\n",
    "translator = pipeline(\"translation\", model=checkpoint)\n",
    "translator.generation_config.do_sample = False\n",
    "translator.generation_config.num_beams = 10\n",
    "translator.generation_config"
   ]
  },
  {
   "cell_type": "markdown",
   "metadata": {},
   "source": [
    "#### Basic Sentences"
   ]
  },
  {
   "cell_type": "code",
   "execution_count": 3,
   "metadata": {},
   "outputs": [
    {
     "data": {
      "text/plain": [
       "[{'translation_text': 'My name is love.'},\n",
       " {'translation_text': \"I didn't eat meat yesterday.\"},\n",
       " {'translation_text': \"Let's eat.\"},\n",
       " {'translation_text': 'I like autumn.'},\n",
       " {'translation_text': 'Good morning.'}]"
      ]
     },
     "execution_count": 3,
     "metadata": {},
     "output_type": "execute_result"
    }
   ],
   "source": [
    "translator([\"私の名前は愛です\",\"昨日はお肉を食べませんでした\",\"いただきますよう\",\n",
    "         \"秋は好きです\",\"おはようございます\"])"
   ]
  },
  {
   "cell_type": "code",
   "execution_count": 65,
   "metadata": {},
   "outputs": [
    {
     "data": {
      "text/plain": [
       "[{'translation_text': 'Please, sir.'},\n",
       " {'translation_text': \"I haven't seen you in a long time.\"},\n",
       " {'translation_text': 'Kyoto is a famous city.'},\n",
       " {'translation_text': \"This isn't supposed to be an apology.\"}]"
      ]
     },
     "execution_count": 65,
     "metadata": {},
     "output_type": "execute_result"
    }
   ],
   "source": [
    "translator([\"お願い申し上げます\", \"ご無沙汰しております\", \"京都は有名な都市です\", \"これは謝って済むことじゃない\"])"
   ]
  },
  {
   "cell_type": "markdown",
   "metadata": {},
   "source": [
    "#### Grammar Test"
   ]
  },
  {
   "cell_type": "code",
   "execution_count": 66,
   "metadata": {},
   "outputs": [
    {
     "data": {
      "text/plain": [
       "[{'translation_text': 'You should be in there.'},\n",
       " {'translation_text': 'I have to get in.'},\n",
       " {'translation_text': 'We have to get in there.'}]"
      ]
     },
     "execution_count": 66,
     "metadata": {},
     "output_type": "execute_result"
    }
   ],
   "source": [
    "translator([\"入るべきだ\",\"入らなければならない\",\"入らなくてはいけない\"])"
   ]
  },
  {
   "cell_type": "code",
   "execution_count": 67,
   "metadata": {},
   "outputs": [
    {
     "data": {
      "text/plain": [
       "[{'translation_text': 'I eat vegetables.'},\n",
       " {'translation_text': 'vegetables can be eaten by me.'},\n",
       " {'translation_text': 'My mother makes me eat vegetables.'},\n",
       " {'translation_text': \"I am fed to my mother's vegetables.\"}]"
      ]
     },
     "execution_count": 67,
     "metadata": {},
     "output_type": "execute_result"
    }
   ],
   "source": [
    "translator([\"野菜を食べる。\",\"野菜は私に食べられる。\",\n",
    "            \"母は私に野菜を食べさせる。\",\"私は母に野菜を食べさせられる。\"])"
   ]
  },
  {
   "cell_type": "code",
   "execution_count": 68,
   "metadata": {},
   "outputs": [
    {
     "data": {
      "text/plain": [
       "[{'translation_text': 'Close the door.'},\n",
       " {'translation_text': 'The door is closed.'},\n",
       " {'translation_text': 'The door is closed.'},\n",
       " {'translation_text': 'Thank you for teaching me English.'},\n",
       " {'translation_text': 'Can you tell me English?'}]"
      ]
     },
     "execution_count": 68,
     "metadata": {},
     "output_type": "execute_result"
    }
   ],
   "source": [
    "translator([\"ドアを閉める。\",\"ドアが閉まる。\",\"ドアが閉められる。\",\"英語を教えてくれてありがとう。\",\n",
    "           \"英語を教えていただけませんか。\"])"
   ]
  },
  {
   "cell_type": "code",
   "execution_count": 69,
   "metadata": {},
   "outputs": [
    {
     "data": {
      "text/plain": [
       "[{'translation_text': 'We should have a problem with the environment.'},\n",
       " {'translation_text': 'I have to think of the environment problem.'},\n",
       " {'translation_text': 'You have to think of the environment problem.'}]"
      ]
     },
     "execution_count": 69,
     "metadata": {},
     "output_type": "execute_result"
    }
   ],
   "source": [
    "translator([\"環境問題を考えるべきだ\",\"環境問題を考えなければならない\",\"環境問題を考えなくてはいけない\"])"
   ]
  },
  {
   "cell_type": "markdown",
   "metadata": {},
   "source": [
    "#### Longer Sentences"
   ]
  },
  {
   "cell_type": "code",
   "execution_count": 70,
   "metadata": {},
   "outputs": [
    {
     "data": {
      "text/plain": [
       "[{'translation_text': 'On the sunny day of winter, there will be Mt. Fuji from a high car in Tokyo that can see Mt. Fuji in the train.'}]"
      ]
     },
     "execution_count": 70,
     "metadata": {},
     "output_type": "execute_result"
    }
   ],
   "source": [
    "translator(\"冬のよく晴れた日、東京からでも、高い所を走る電車の中から富士山が見えることがあります。\")"
   ]
  },
  {
   "cell_type": "code",
   "execution_count": 71,
   "metadata": {},
   "outputs": [
    {
     "data": {
      "text/plain": [
       "[{'translation_text': 'In the morning train, high school students cry out to their friends, \"Oh, Mt. Fuji.\"'}]"
      ]
     },
     "execution_count": 71,
     "metadata": {},
     "output_type": "execute_result"
    }
   ],
   "source": [
    "translator(\"朝の込んでいる電車の中で、高校生が友達に叫びます。「あっ、富士山だ」。\")"
   ]
  },
  {
   "cell_type": "code",
   "execution_count": 72,
   "metadata": {},
   "outputs": [
    {
     "data": {
      "text/plain": [
       "[{'translation_text': '\"I heard voices, of course, of course, but I\\'d like to see Mt. Fuji as well as possible.\"'}]"
      ]
     },
     "execution_count": 72,
     "metadata": {},
     "output_type": "execute_result"
    }
   ],
   "source": [
    "translator(\"声が聞こえたとたん、その友達はもちろん、他の人もどうにかして首だけでも曲げて富士山を見ようとします。\")"
   ]
  },
  {
   "cell_type": "code",
   "execution_count": 73,
   "metadata": {},
   "outputs": [
    {
     "data": {
      "text/plain": [
       "[{'translation_text': 'Japan has a social insurance system, and the people have to enter a public medical insurance policy.'}]"
      ]
     },
     "execution_count": 73,
     "metadata": {},
     "output_type": "execute_result"
    }
   ],
   "source": [
    "translator(\"日本には社会保険制度があり、国民は必ず公的な医療保険に入らなくてはいけない。\")"
   ]
  },
  {
   "cell_type": "code",
   "execution_count": 74,
   "metadata": {},
   "outputs": [
    {
     "data": {
      "text/plain": [
       "[{'translation_text': 'Thanks to this system, we stopped to go to a hospital in economic cause, so any person could be treated.'}]"
      ]
     },
     "execution_count": 74,
     "metadata": {},
     "output_type": "execute_result"
    }
   ],
   "source": [
    "translator(\"この制度があるおかげで、経済的な原因で病院に行くことができないということがなくなり、どんな人でも医療を受けられるようになった。\")"
   ]
  },
  {
   "cell_type": "code",
   "execution_count": 75,
   "metadata": {},
   "outputs": [
    {
     "data": {
      "text/plain": [
       "[{'translation_text': 'Now, people who live in Japan for more than a year in Japan are expected to be a medical insurance like Japanese people.'}]"
      ]
     },
     "execution_count": 75,
     "metadata": {},
     "output_type": "execute_result"
    }
   ],
   "source": [
    "translator(\"現在は、日本に１年以上住む外国人も日本人と同じように医療保険に入ることになっている。\")"
   ]
  },
  {
   "cell_type": "code",
   "execution_count": 76,
   "metadata": {},
   "outputs": [
    {
     "data": {
      "text/plain": [
       "[{'translation_text': 'Japan\\'s capital was Kyoto for a long time. So Kyoto\\'s people say, \"This is the real city of Kyoto, and no one has the Prime Minister of the real Japan\\'s capital.\"'}]"
      ]
     },
     "execution_count": 76,
     "metadata": {},
     "output_type": "execute_result"
    }
   ],
   "source": [
    "translator(\"日本の都は長い間、京都であった。だから京都の人は「京都こそ、本当の日本の都である」とプライドを持っている人が少なくない。\")"
   ]
  },
  {
   "cell_type": "code",
   "execution_count": 77,
   "metadata": {},
   "outputs": [
    {
     "data": {
      "text/plain": [
       "[{'translation_text': 'robots let the nurse eat the old man instead of the nurse.'}]"
      ]
     },
     "execution_count": 77,
     "metadata": {},
     "output_type": "execute_result"
    }
   ],
   "source": [
    "translator(\"ロボットは看護師の代わりに、老人に食事をさせてくれる。\")"
   ]
  },
  {
   "cell_type": "markdown",
   "metadata": {},
   "source": [
    "#### Sentences from Literature and Animation"
   ]
  },
  {
   "cell_type": "code",
   "execution_count": 78,
   "metadata": {},
   "outputs": [
    {
     "data": {
      "text/plain": [
       "[{'translation_text': 'It was a snowland that broke through the long tunnel of the border.'}]"
      ]
     },
     "execution_count": 78,
     "metadata": {},
     "output_type": "execute_result"
    }
   ],
   "source": [
    "translator(\"国境の長いトンネルを抜けると、雪国であった。\")"
   ]
  },
  {
   "cell_type": "code",
   "execution_count": 79,
   "metadata": {},
   "outputs": [
    {
     "data": {
      "text/plain": [
       "[{'translation_text': 'The ring is promised to fall in love.'}]"
      ]
     },
     "execution_count": 79,
     "metadata": {},
     "output_type": "execute_result"
    }
   ],
   "source": [
    "translator(\"指輪は恋の約束\")"
   ]
  },
  {
   "cell_type": "code",
   "execution_count": 80,
   "metadata": {},
   "outputs": [
    {
     "data": {
      "text/plain": [
       "[{'translation_text': 'The last one was a gentle liar.'}]"
      ]
     },
     "execution_count": 80,
     "metadata": {},
     "output_type": "execute_result"
    }
   ],
   "source": [
    "translator(\"最後の噓は優しい噓でした\")"
   ]
  },
  {
   "cell_type": "code",
   "execution_count": 81,
   "metadata": {},
   "outputs": [
    {
     "data": {
      "text/plain": [
       "[{'translation_text': 'Take a bullet with a gun.'}]"
      ]
     },
     "execution_count": 81,
     "metadata": {},
     "output_type": "execute_result"
    }
   ],
   "source": [
    "translator(\"弾丸込めた小銃を持って\")"
   ]
  },
  {
   "cell_type": "code",
   "execution_count": 82,
   "metadata": {},
   "outputs": [
    {
     "data": {
      "text/plain": [
       "[{'translation_text': \"We'll die here and take the meaning next to the living.\"}]"
      ]
     },
     "execution_count": 82,
     "metadata": {},
     "output_type": "execute_result"
    }
   ],
   "source": [
    "translator(\"我々はここで死に、その意味を次の生者に託す。\")"
   ]
  },
  {
   "cell_type": "code",
   "execution_count": 83,
   "metadata": {},
   "outputs": [
    {
     "data": {
      "text/plain": [
       "[{'translation_text': 'I want to hear my older guitar one more time.'}]"
      ]
     },
     "execution_count": 83,
     "metadata": {},
     "output_type": "execute_result"
    }
   ],
   "source": [
    "translator(\"私もう一度先輩のギターが聞きたいです。\")"
   ]
  },
  {
   "cell_type": "code",
   "execution_count": 84,
   "metadata": {},
   "outputs": [
    {
     "data": {
      "text/plain": [
       "[{'translation_text': \"They're not going back, but they're not gone.\"}]"
      ]
     },
     "execution_count": 84,
     "metadata": {},
     "output_type": "execute_result"
    }
   ],
   "source": [
    "translator(\"二度と戻ることはない、でも消えない模様\")"
   ]
  }
 ],
 "metadata": {
  "kernelspec": {
   "display_name": "t800",
   "language": "python",
   "name": "python3"
  },
  "language_info": {
   "codemirror_mode": {
    "name": "ipython",
    "version": 3
   },
   "file_extension": ".py",
   "mimetype": "text/x-python",
   "name": "python",
   "nbconvert_exporter": "python",
   "pygments_lexer": "ipython3",
   "version": "3.10.15"
  }
 },
 "nbformat": 4,
 "nbformat_minor": 2
}
